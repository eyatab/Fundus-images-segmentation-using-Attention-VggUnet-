{
  "cells": [
    {
      "cell_type": "markdown",
      "metadata": {
        "id": "view-in-github",
        "colab_type": "text"
      },
      "source": [
        "<a href=\"https://colab.research.google.com/github/eyatab/Fundus-images-segmentation-using-Attention-VggUnet3-/blob/main/Attention_VGGUNET3%2B_.ipynb\" target=\"_parent\"><img src=\"https://colab.research.google.com/assets/colab-badge.svg\" alt=\"Open In Colab\"/></a>"
      ]
    },
    {
      "cell_type": "code",
      "execution_count": null,
      "metadata": {
        "colab": {
          "base_uri": "https://localhost:8080/"
        },
        "id": "CXtw-F-wD4I0",
        "outputId": "893363fb-413d-42c4-d5ca-5ba71431c2b7"
      },
      "outputs": [
        {
          "output_type": "stream",
          "name": "stdout",
          "text": [
            "Mounted at /content/drive\n"
          ]
        }
      ],
      "source": [
        "from google.colab import drive\n",
        "drive.mount('/content/drive')"
      ]
    },
    {
      "cell_type": "markdown",
      "metadata": {
        "id": "YzNF_sndclY9"
      },
      "source": []
    },
    {
      "cell_type": "markdown",
      "metadata": {
        "id": "4dWUnJiqfily"
      },
      "source": [
        "#importation"
      ]
    },
    {
      "cell_type": "code",
      "execution_count": null,
      "metadata": {
        "id": "Nas3TxUtDwvn"
      },
      "outputs": [],
      "source": [
        "from skimage.transform import resize\n",
        "import cv2\n",
        "import numpy as np\n",
        "from PIL import Image\n",
        "import imutils\n",
        "#from tensorflow.keras.losses import binary_crossentropy\n",
        "import tensorflow as tf\n",
        "import matplotlib.pyplot as plt\n",
        "import os\n",
        "import keras\n",
        "from keras import losses\n",
        "from keras.callbacks import ModelCheckpoint, EarlyStopping, ReduceLROnPlateau,CSVLogger\n",
        "\n",
        "from keras.models import Model, load_model\n",
        "from keras.layers import ReLU\n",
        "import tensorflow.keras.layers as layers\n",
        "import tensorflow.keras.models as models\n",
        "import tensorflow.keras.activations as activations\n",
        "import tensorflow.keras.metrics as metrics\n",
        "from tensorflow.keras.preprocessing.image import ImageDataGenerator\n",
        "! pip install tensorflow-addons\n",
        "import tensorflow_addons.optimizers as optimizers\n",
        "import tensorflow_addons.losses as losses\n",
        "from keras.layers import GlobalAveragePooling2D, GlobalMaxPooling2D, Reshape, Dense, multiply, Permute, Concatenate, Conv2D, Add, Activation, Lambda\n",
        "from keras import backend as K\n",
        "from keras.activations import sigmoid"
      ]
    },
    {
      "cell_type": "markdown",
      "metadata": {
        "id": "n78uHzUpCgh7"
      },
      "source": [
        "#functions"
      ]
    },
    {
      "cell_type": "markdown",
      "metadata": {
        "id": "OXuSEOV7FQ36"
      },
      "source": [
        "##extract disc cup"
      ]
    },
    {
      "cell_type": "code",
      "execution_count": null,
      "metadata": {
        "id": "AkYmrGhmCiL0"
      },
      "outputs": [],
      "source": [
        "def extract_number(filename):\n",
        "    # Supprimer le \"g\" initial et convertir le reste en entier\n",
        "    return int(filename[1:-4])\n",
        "\n",
        "def extract_disc_and_cup_masks(disc_mask,cup_mask):\n",
        "   #extract disc\n",
        "        disc_mask[(disc_mask == 0).all(axis=2)] = [128, 128, 128]  # Gris pour disc\n",
        "        disc_mask[(disc_mask == 128).all(axis=2)] = [0, 0, 0]\n",
        "        disc_mask= 255 - disc_mask\n",
        "\n",
        "        #extract cup\n",
        "        cup_mask[(cup_mask == 128).all(axis=2)] = [255, 255, 255]  # Blanc pour cup\n",
        "        cup_mask = 255 - cup_mask\n",
        "        # Apply thresholding to create a binary mask disc\n",
        "        disc_mask = cv2.cvtColor(disc_mask, cv2.COLOR_BGR2GRAY)\n",
        "        #_, disc_mask = cv2.threshold(disc_mask, 128, 255, cv2.THRESH_BINARY)\n",
        "        # Apply thresholding to create a binary mask cup\n",
        "        cup_mask= cv2.cvtColor(cup_mask, cv2.COLOR_BGR2GRAY)\n",
        "        _, cup_mask = cv2.threshold(cup_mask, 1, 255, cv2.THRESH_BINARY)\n",
        "\n",
        "        # Taille cible finale\n",
        "        target_size = (256, 256)\n",
        "\n",
        "        # Effectuer une réduction progressive en plusieurs étapes\n",
        "        while disc_mask.shape[0] > target_size[0] or disc_mask.shape[1] > target_size[1]:\n",
        "              # Réduire l'image de moitié à chaque étape\n",
        "              disc_mask = cv2.resize(disc_mask, (max(disc_mask.shape[1] // 2, target_size[1]), max(disc_mask.shape[0] // 2, target_size[0])))\n",
        "\n",
        "        # Redimensionner l'image à la taille finale\n",
        "              disc_mask= cv2.resize(disc_mask, target_size,cv2.INTER_AREA)\n",
        "\n",
        "        # Effectuer une réduction progressive en plusieurs étapes\n",
        "        while cup_mask.shape[0] > target_size[0] or cup_mask.shape[1] > target_size[1]:\n",
        "        # Réduire l'image de moitié à chaque étape\n",
        "              cup_mask = cv2.resize(cup_mask, (max(cup_mask.shape[1] // 2, target_size[1]), max(cup_mask.shape[0] // 2, target_size[0])))\n",
        "\n",
        "        # Redimensionner l'image à la taille finale\n",
        "              cup_mask= cv2.resize(cup_mask, target_size,cv2.INTER_AREA)\n",
        "\n",
        "        #disc_mask = cv2.resize(disc_mask, (256, 256),interpolation=cv2.INTER_NEAREST)\n",
        "        #cup_mask = cv2.resize(cup_mask, (256, 256),interpolation=cv2.INTER_NEAREST)\n",
        "\n",
        "        return disc_mask, cup_mask"
      ]
    },
    {
      "cell_type": "markdown",
      "metadata": {
        "id": "d3oogN77bg0i"
      },
      "source": [
        "##readimg"
      ]
    },
    {
      "cell_type": "code",
      "execution_count": null,
      "metadata": {
        "id": "HQkjjuiubj7R"
      },
      "outputs": [],
      "source": [
        "def readimg(img):\n",
        "  img = cv2.resize(img, (256, 256))\n",
        "  img = cv2.cvtColor(img, cv2.COLOR_BGR2RGB)\n",
        "  return img"
      ]
    },
    {
      "cell_type": "markdown",
      "metadata": {
        "id": "SPcY2YrNS2bE"
      },
      "source": [
        "##fct_attention"
      ]
    },
    {
      "cell_type": "code",
      "execution_count": null,
      "metadata": {
        "id": "8SD0ABjGS1ek"
      },
      "outputs": [],
      "source": [
        "def channel_attention(input_feature, ratio=8):\n",
        "\n",
        "\tchannel_axis = 1 if K.image_data_format() == \"channels_first\" else -1\n",
        "\tchannel = input_feature.shape[channel_axis]\n",
        "\n",
        "\tshared_layer_one = Dense(channel//ratio,\n",
        "\t\t\t\t\t\t\t activation='relu',\n",
        "\t\t\t\t\t\t\t kernel_initializer='he_normal',\n",
        "\t\t\t\t\t\t\t use_bias=True,\n",
        "\t\t\t\t\t\t\t bias_initializer='zeros')\n",
        "\tshared_layer_two = Dense(channel,\n",
        "\t\t\t\t\t\t\t kernel_initializer='he_normal',\n",
        "\t\t\t\t\t\t\t use_bias=True,\n",
        "\t\t\t\t\t\t\t bias_initializer='zeros')\n",
        "\n",
        "\tavg_pool = GlobalAveragePooling2D()(input_feature)\n",
        "\tavg_pool = Reshape((1,1,channel))(avg_pool)\n",
        "\tassert avg_pool.shape[1:] == (1,1,channel)\n",
        "\tavg_pool = shared_layer_one(avg_pool)\n",
        "\tassert avg_pool.shape[1:] == (1,1,channel//ratio)\n",
        "\tavg_pool = shared_layer_two(avg_pool)\n",
        "\tassert avg_pool.shape[1:] == (1,1,channel)\n",
        "\n",
        "\tmax_pool = GlobalMaxPooling2D()(input_feature)\n",
        "\tmax_pool = Reshape((1,1,channel))(max_pool)\n",
        "\tassert max_pool.shape[1:] == (1,1,channel)\n",
        "\tmax_pool = shared_layer_one(max_pool)\n",
        "\tassert max_pool.shape[1:] == (1,1,channel//ratio)\n",
        "\tmax_pool = shared_layer_two(max_pool)\n",
        "\tassert max_pool.shape[1:] == (1,1,channel)\n",
        "\n",
        "\tcbam_feature = Add()([avg_pool,max_pool])\n",
        "\tcbam_feature = Activation('sigmoid')(cbam_feature)\n",
        "\n",
        "\tif K.image_data_format() == \"channels_first\":\n",
        "\t\tcbam_feature = Permute((3, 1, 2))(cbam_feature)\n",
        "\n",
        "\treturn multiply([input_feature, cbam_feature])\n",
        "\n",
        "def spatial_attention(input_feature):\n",
        "\tkernel_size = 7\n",
        "\n",
        "\tif K.image_data_format() == \"channels_first\":\n",
        "\t\tchannel = input_feature.shape[1]\n",
        "\t\tcbam_feature = Permute((2,3,1))(input_feature)\n",
        "\telse:\n",
        "\t\tchannel = input_feature.shape[-1]\n",
        "\t\tcbam_feature = input_feature\n",
        "\n",
        "\tavg_pool = Lambda(lambda x: K.mean(x, axis=3, keepdims=True))(cbam_feature)\n",
        "\tassert avg_pool.shape[-1] == 1\n",
        "\tmax_pool = Lambda(lambda x: K.max(x, axis=3, keepdims=True))(cbam_feature)\n",
        "\tassert max_pool.shape[-1] == 1\n",
        "\tconcat = Concatenate(axis=3)([avg_pool, max_pool])\n",
        "\tassert concat.shape[-1] == 2\n",
        "\tcbam_feature = Conv2D(filters = 1,\n",
        "\t\t\t\t\tkernel_size=kernel_size,\n",
        "\t\t\t\t\tstrides=1,\n",
        "\t\t\t\t\tpadding='same',\n",
        "\t\t\t\t\tactivation='sigmoid',\n",
        "\t\t\t\t\tkernel_initializer='he_normal',\n",
        "\t\t\t\t\tuse_bias=False)(concat)\n",
        "\tassert cbam_feature.shape[-1] == 1\n",
        "\n",
        "\tif K.image_data_format() == \"channels_first\":\n",
        "\t\tcbam_feature = Permute((3, 1, 2))(cbam_feature)\n",
        "\n",
        "\treturn multiply([input_feature, cbam_feature])\n"
      ]
    },
    {
      "cell_type": "markdown",
      "metadata": {
        "id": "CYe5CIzeSohQ"
      },
      "source": [
        "##cbam"
      ]
    },
    {
      "cell_type": "code",
      "execution_count": null,
      "metadata": {
        "id": "-lHGyqwlSprX"
      },
      "outputs": [],
      "source": [
        "def cbam_block(cbam_feature, ratio=8):\n",
        "\tcbam_feature = channel_attention(cbam_feature, ratio)\n",
        "\tcbam_feature = spatial_attention(cbam_feature)\n",
        "\treturn cbam_feature\n"
      ]
    },
    {
      "cell_type": "markdown",
      "metadata": {
        "id": "ZuyIoG-S9WjF"
      },
      "source": [
        "#Train data"
      ]
    },
    {
      "cell_type": "code",
      "execution_count": null,
      "metadata": {
        "id": "5iAe_CWjAMjf"
      },
      "outputs": [],
      "source": [
        "Path_trainGT='/content/drive/MyDrive/REFUGE/train/gts'\n",
        "Path_trainIMG='/content/drive/MyDrive/REFUGE/train/Images'\n",
        "\n",
        "\n",
        "image_files = os.listdir(Path_trainIMG) #nom files\n",
        "# Trier les noms de fichiers en utilisant la fonction de tri personnalisée\n",
        "image_files = sorted(image_files, key=extract_number)\n",
        "\n",
        "# Initialize lists to store training data and labels\n",
        "training_images = []\n",
        "training_GTOD= []\n",
        "\n",
        "for image_file in image_files:\n",
        "    image_path = os.path.join(Path_trainIMG, image_file)\n",
        "    gt_file = os.path.splitext(image_file)[0] + '.bmp'\n",
        "    gt_path = os.path.join(Path_trainGT, gt_file)\n",
        "\n",
        "    if os.path.isfile(gt_path):\n",
        "        # Charger l'image et ground truth\n",
        "        image = cv2.imread(image_path)\n",
        "        gt = cv2.imread(gt_path)\n",
        "        #create copy\n",
        "        disc_mask = gt.copy()\n",
        "        cup_mask = gt.copy()\n",
        "        image= readimg(image)\n",
        "\n",
        "        disc_mask, cup_mask = extract_disc_and_cup_masks(disc_mask, cup_mask)\n",
        "        # Remodeler training_GTOD en (256, 256, 1)\n",
        "        disc_mask= np.reshape(disc_mask, (256, 256, 1))\n",
        "        # Vérification : imprimer un message de débogage pour chaque image traitée\n",
        "\n",
        "\n",
        "        # Ajouter les données chargées aux listes\n",
        "        training_images.append(image)\n",
        "        training_GTOD.append(disc_mask)\n",
        "\n",
        "\n",
        "# Convertir les listes en tableaux NumPy pour une manipulation plus facile\n",
        "training_images= np.array(training_images)\n",
        "training_GTOD = np.array(training_GTOD)\n"
      ]
    },
    {
      "cell_type": "markdown",
      "metadata": {
        "id": "8QJe-RhGvFDN"
      },
      "source": [
        "#validation data"
      ]
    },
    {
      "cell_type": "code",
      "execution_count": null,
      "metadata": {
        "id": "uNdjEvcjvIFR"
      },
      "outputs": [],
      "source": [
        "Path_valGT='/content/drive/MyDrive/REFUGE/val/gts'\n",
        "Path_valIMG='/content/drive/MyDrive/REFUGE/val/Images'\n",
        "\n",
        "#Path_valGT='/content/drive/MyDrive/File isg/REFUGE/val/gts'\n",
        "#Path_valIMG='/content/drive/MyDrive/File isg/REFUGE/val/Images'\n",
        "\n",
        "image_files = os.listdir(Path_valIMG) #nom files\n",
        "# Trier les noms de fichiers en utilisant la fonction de tri personnalisée\n",
        "image_files = sorted(image_files, key=extract_number)\n",
        "#print(image_files )\n",
        "# Initialize lists to store training data and labels\n",
        "val_images = []\n",
        "val_GTOD= []\n",
        "\n",
        "for image_file in image_files:\n",
        "    image_path = os.path.join(Path_valIMG, image_file)\n",
        "    gt_file = os.path.splitext(image_file)[0] + '.bmp'  # Correction de l'extension à '.bmp'\n",
        "    gt_path = os.path.join(Path_valGT, gt_file)\n",
        "\n",
        "    if os.path.isfile(gt_path):\n",
        "        # Charger l'image et ground truth\n",
        "        image = cv2.imread(image_path)\n",
        "        gt = cv2.imread(gt_path)\n",
        "        #create copy\n",
        "        disc_mask = gt.copy()\n",
        "        cup_mask = gt.copy()\n",
        "        image= readimg(image)\n",
        "        disc_mask, cup_mask = extract_disc_and_cup_masks(disc_mask, cup_mask)\n",
        "\n",
        "        disc_mask= np.reshape(disc_mask, (256, 256, 1))\n",
        "\n",
        "        val_images.append(image)\n",
        "        val_GTOD.append(disc_mask)\n",
        "\n",
        "\n",
        "# Convertir les listes en tableaux NumPy pour une manipulation plus facile\n",
        "val_images = np.array(val_images)\n",
        "val_GTOD = np.array(val_GTOD)\n"
      ]
    },
    {
      "cell_type": "code",
      "execution_count": null,
      "metadata": {
        "id": "LN3WU2ohLBgm",
        "colab": {
          "base_uri": "https://localhost:8080/"
        },
        "outputId": "db0143e3-da96-4193-cb40-b4ddf312047f"
      },
      "outputs": [
        {
          "output_type": "stream",
          "name": "stdout",
          "text": [
            "(120, 256, 256, 3)\n"
          ]
        }
      ],
      "source": [
        "print(val_images.shape)"
      ]
    },
    {
      "cell_type": "markdown",
      "metadata": {
        "id": "KTKrusz4qUtl"
      },
      "source": [
        "#normalization"
      ]
    },
    {
      "cell_type": "code",
      "execution_count": null,
      "metadata": {
        "id": "pZafD-82qWpO"
      },
      "outputs": [],
      "source": [
        "training_images= training_images / 255.0\n",
        "training_GTOD= training_GTOD / 255.0\n",
        "\n",
        "\n",
        "val_images= val_images / 255.0\n",
        "val_GTOD= val_GTOD / 255.0\n",
        "\n"
      ]
    },
    {
      "cell_type": "markdown",
      "metadata": {
        "id": "xcuNb__NFtuo"
      },
      "source": [
        "#architecture modele"
      ]
    },
    {
      "cell_type": "markdown",
      "metadata": {
        "id": "PWXGAQFAF3G_"
      },
      "source": [
        "##disc"
      ]
    },
    {
      "cell_type": "code",
      "execution_count": null,
      "metadata": {
        "id": "mPgbdfWlF4ey"
      },
      "outputs": [],
      "source": [
        "from tensorflow.keras.layers import Dense, GlobalAveragePooling2D, Input, UpSampling2D\n",
        "from tensorflow.keras.applications import VGG16\n",
        "from tensorflow.keras import layers, models\n",
        "from tensorflow.keras.activations import relu\n",
        "from tensorflow.keras.layers import Dense, GlobalAveragePooling2D, Input\n",
        "from tensorflow.keras.callbacks import ModelCheckpoint\n",
        "\n",
        "# Defining the decoder's up-sampling blocks.\n",
        "def upscale_blocks(inputs):\n",
        "    n_upscales = len(inputs)\n",
        "    upscale_layers = []\n",
        "\n",
        "    for i, inp in enumerate(inputs):\n",
        "        p = n_upscales - i\n",
        "        u = layers.Conv2DTranspose(filters=64, kernel_size=3, strides=2**p, padding='same')(inp)\n",
        "\n",
        "        for i in range(2):\n",
        "            u = layers.Conv2D(filters=64, kernel_size=3, padding='same', use_bias=False)(u)\n",
        "            u = layers.BatchNormalization()(u)\n",
        "            u = layers.Activation(activations.relu)(u)\n",
        "            u = layers.Dropout(rate=0.4)(u)\n",
        "\n",
        "        upscale_layers.append(u)\n",
        "    return upscale_layers\n",
        "# Définition des blocs de décodeur\n",
        "def decoder_block(layers_to_upscale, inputs):\n",
        "    # Upsample layers_to_upscale pour qu'elles aient les mêmes dimensions que les entrées du décodeur\n",
        "    upscaled_layers = []\n",
        "    for i, inp in enumerate(inputs):\n",
        "      if i < len(layers_to_upscale):\n",
        "        upscale_factor = int(inputs[0].shape[1]) // int(layers_to_upscale[i].shape[1])\n",
        "        upsampled = layers.UpSampling2D(size=(upscale_factor, upscale_factor))(layers_to_upscale[i])\n",
        "        upscaled_layers.append(upsampled)\n",
        "\n",
        "\n",
        "        d = layers.Conv2D(filters=64, kernel_size=3, strides=1, padding='same', use_bias=False)(inp)\n",
        "        d = layers.BatchNormalization()(d)\n",
        "        d = layers.Activation(relu)(d)\n",
        "        d = layers.Conv2D(filters=64, kernel_size=3, strides=1, padding='same', use_bias=False)(d)\n",
        "        d = layers.BatchNormalization()(d)\n",
        "        d = layers.Activation(relu)(d)\n",
        "\n",
        "        upscaled_layers.append(d)\n",
        "\n",
        "    decoder = layers.concatenate(upscaled_layers)\n",
        "    decoder = layers.Conv2D(filters=256, kernel_size=3, strides=1, padding='same', use_bias=False)(decoder)\n",
        "    decoder = layers.BatchNormalization()(decoder)\n",
        "    decoder = layers.Activation(relu)(decoder)\n",
        "    decoder = layers.Dropout(rate=0.4)(decoder)\n",
        "\n",
        "    return decoder\n",
        "\n",
        "def get_model(input_dim):\n",
        "    inputs = Input(input_dim)\n",
        "\n",
        "    base_model = VGG16(weights='imagenet', include_top=False, input_shape=input_dim)\n",
        "    base_model.trainable = False\n",
        "    # Récupérez la sortie de l'encodeur (la dernière couche de convolution)\n",
        "    x = base_model.output\n",
        "\n",
        "    # Decoder blocks for optic disc segmentation (modified)\n",
        "    d4 = decoder_block(layers_to_upscale=[x], inputs=[base_model.input])\n",
        "    d3 = decoder_block(layers_to_upscale=[x, d4], inputs=[base_model.input])\n",
        "    d2 = decoder_block(layers_to_upscale=[x, d4, d3], inputs=[base_model.input])\n",
        "    d1 = decoder_block(layers_to_upscale=[x, d4, d3, d2], inputs=[base_model.input])\n",
        "    d1 =  cbam_block(d1)\n",
        "    # Output layer for optic disc segmentation\n",
        "    disc_output = layers.Conv2D(filters=1, kernel_size=1, padding='same', activation='sigmoid')(d1)\n",
        "\n",
        "    model = models.Model(inputs=base_model.input, outputs=disc_output)\n",
        "\n",
        "    return model\n",
        "\n",
        "disc_model = get_model((256, 256, 3))\n"
      ]
    },
    {
      "cell_type": "markdown",
      "metadata": {
        "id": "_9rh6AP5bBxg"
      },
      "source": [
        "#compile model"
      ]
    },
    {
      "cell_type": "code",
      "execution_count": null,
      "metadata": {
        "id": "TQ1PrBcRvb5R",
        "colab": {
          "base_uri": "https://localhost:8080/"
        },
        "outputId": "cb8d8d6c-7714-47de-e00b-edfc88d954ca"
      },
      "outputs": [
        {
          "output_type": "stream",
          "name": "stdout",
          "text": [
            "/content/drive/MyDrive\n"
          ]
        }
      ],
      "source": [
        "from tensorflow.keras.metrics import Accuracy\n",
        "%cd /content/drive/MyDrive\n",
        "checkpoint_path = \"/content/drive/MyDrive/disc_bestvggrgbatt40.h5\"\n",
        "# Créez un callback pour sauvegarder les poids du modèle.\n",
        "model_checkpoint_callback = ModelCheckpoint(filepath=checkpoint_path,\n",
        "                                            save_weights_only=True,\n",
        "                                            verbose=1,\n",
        "                                            save_best_only=True)\n",
        "callbacks = [\n",
        "    EarlyStopping(monitor='val_loss', patience=10, verbose=1),\n",
        "    ReduceLROnPlateau(factor=0.1, patience=5, min_lr=0.000001, verbose=1),#réduire LR pendant l'entraînement lorsque la métrique spécifiée cesse de s'améliorer\n",
        "    model_checkpoint_callback,\n",
        "    CSVLogger(\"/content/drive/MyDrive/disc_metrvggatt.csv\"),#enregistre les métriques d'entraînement dans un fichier CSV.\n",
        "]\n"
      ]
    },
    {
      "cell_type": "code",
      "execution_count": null,
      "metadata": {
        "id": "P8At0W8xgHw2"
      },
      "outputs": [],
      "source": [
        "disc_model = get_model((256, 256, 3))\n",
        "#print(\"Logits shape:\", model.output_shape)\n",
        "#print(\"Labels shape:\", training_GTOD.shape)"
      ]
    },
    {
      "cell_type": "code",
      "execution_count": null,
      "metadata": {
        "id": "VV1xPjq1bDty"
      },
      "outputs": [],
      "source": [
        "from tensorflow.keras.losses import binary_crossentropy\n",
        "from tensorflow.keras.optimizers import Adam\n",
        "disc_model.compile(\n",
        "    optimizer=Adam(learning_rate=0.001),\n",
        "    loss='binary_crossentropy',\n",
        "    metrics=[\"accuracy\",tf.keras.metrics.MeanIoU(num_classes=2)]\n",
        ")\n",
        "results = disc_model.fit(training_images, training_GTOD, batch_size= 4, epochs=40,validation_data=(val_images, val_GTOD),callbacks=callbacks)"
      ]
    },
    {
      "cell_type": "code",
      "execution_count": null,
      "metadata": {
        "id": "QgpY5ZGf78QM"
      },
      "outputs": [],
      "source": [
        "#model.save('modeldisc.h5')\n",
        "val_loss=results.history['val_loss']"
      ]
    },
    {
      "cell_type": "markdown",
      "metadata": {
        "id": "b0mC0v1Kv8Zp"
      },
      "source": [
        "#visualization"
      ]
    },
    {
      "cell_type": "code",
      "execution_count": null,
      "metadata": {
        "id": "51MFWAtswB6c",
        "colab": {
          "base_uri": "https://localhost:8080/",
          "height": 1000
        },
        "outputId": "588ed258-4126-49c3-e81b-2963de40df8f"
      },
      "outputs": [
        {
          "output_type": "display_data",
          "data": {
            "text/plain": [
              "<Figure size 1500x600 with 1 Axes>"
            ],
            "image/png": "[encoded data removed]"
          },
          "metadata": {}
        },
        {
          "output_type": "display_data",
          "data": {
            "text/plain": [
              "<Figure size 1500x600 with 1 Axes>"
            ],
            "image/png": "[encoded data removed]"
          },
          "metadata": {}
        }
      ],
      "source": [
        "plt.figure(figsize = (15,6))\n",
        "plt.title(\"Learning curve\")\n",
        "plt.plot(results.history[\"loss\"], label=\"loss\", color=\"b\")\n",
        "plt.plot(results.history[\"val_loss\"], label=\"val_loss\", color=\"r\")\n",
        "plt.plot(np.argmin(results.history[\"val_loss\"]), np.min(results.history[\"val_loss\"]), marker=\"x\", color=\"r\", label=\"best model\")\n",
        "plt.xlabel(\"Epochs\")\n",
        "plt.ylabel(\"Loss\")\n",
        "plt.legend();\n",
        "\n",
        "plt.figure(figsize = (15,6))\n",
        "plt.title(\"Learning curve\")\n",
        "plt.plot(results.history[\"accuracy\"], label=\"Accuracy\", color=\"b\")\n",
        "plt.plot(results.history[\"val_accuracy\"], label=\"val_Accuracy\", color=\"r\")\n",
        "plt.plot(np.argmax(results.history[\"val_accuracy\"]), np.max(results.history[\"val_accuracy\"]), marker=\"x\", color=\"r\", label=\"best model\")\n",
        "plt.xlabel(\"Epochs\")\n",
        "plt.ylabel(\"Accuracy\")\n",
        "plt.legend();"
      ]
    },
    {
      "cell_type": "markdown",
      "metadata": {
        "id": "GqpjrlqhNoVI"
      },
      "source": []
    }
  ],
  "metadata": {
    "accelerator": "GPU",
    "colab": {
      "collapsed_sections": [
        "4dWUnJiqfily",
        "n78uHzUpCgh7",
        "OXuSEOV7FQ36",
        "d3oogN77bg0i",
        "SPcY2YrNS2bE",
        "CYe5CIzeSohQ",
        "ZuyIoG-S9WjF",
        "8QJe-RhGvFDN",
        "KTKrusz4qUtl",
        "PWXGAQFAF3G_"
      ],
      "provenance": [],
      "include_colab_link": true
    },
    "kernelspec": {
      "display_name": "Python 3",
      "name": "python3"
    },
    "language_info": {
      "name": "python"
    }
  },
  "nbformat": 4,
  "nbformat_minor": 0
}